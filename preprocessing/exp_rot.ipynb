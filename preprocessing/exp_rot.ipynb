{
 "cells": [
  {
   "cell_type": "code",
   "execution_count": null,
   "metadata": {},
   "outputs": [],
   "source": [
    "import numpy as np\n",
    "import os\n",
    "from pathlib import Path\n",
    "from tifffile import imread, imwrite"
   ]
  },
  {
   "cell_type": "code",
   "execution_count": null,
   "metadata": {},
   "outputs": [],
   "source": [
    "# unrotated experiment\n",
    "SRC = Path('path/to/raw_data/exp_atp_vary/vid0_t0.tif') # CHANGE THIS!!!\n",
    "# save directory for experiment rotations\n",
    "DST = Path('path/to/raw_data/exp_rot_vary/') # CHANGE THIS!!!"
   ]
  },
  {
   "cell_type": "code",
   "execution_count": null,
   "metadata": {},
   "outputs": [],
   "source": [
    "DST.mkdir(parents=True, exist_ok=True) # create save directory\n",
    "src_data = imread(SRC) # load unrotated experiment\n",
    "for k in np.arange(3, dtype=int)+1: # loop over rotations\n",
    "    dst_fn = 'rot_'+str(90*k).zfill(3)+'_'+os.path.basename(SRC)\n",
    "    # rotate unrotated experiment images by integer multiples of 90 degrees\n",
    "    dst_data = np.rot90(src_data, k=k, axes=(1, 2))\n",
    "    # write to file save name\n",
    "    imwrite(DST.joinpath(dst_fn), dst_data.astype(np.uint8))"
   ]
  }
 ],
 "metadata": {
  "kernelspec": {
   "display_name": "venv",
   "language": "python",
   "name": "python3"
  },
  "language_info": {
   "codemirror_mode": {
    "name": "ipython",
    "version": 3
   },
   "file_extension": ".py",
   "mimetype": "text/x-python",
   "name": "python",
   "nbconvert_exporter": "python",
   "pygments_lexer": "ipython3",
   "version": "3.11.6"
  }
 },
 "nbformat": 4,
 "nbformat_minor": 2
}
