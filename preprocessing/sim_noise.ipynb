{
 "cells": [
  {
   "cell_type": "code",
   "execution_count": 1,
   "id": "fea0fd97-3df7-4730-82f3-60003fca3c52",
   "metadata": {},
   "outputs": [],
   "source": [
    "import numpy as np\n",
    "import os\n",
    "from pathlib import Path\n",
    "from tifffile import imread, imwrite\n",
    "from tqdm import tqdm"
   ]
  },
  {
   "cell_type": "code",
   "execution_count": 2,
   "id": "510665c4-7f29-41ed-bd60-0dc6ad0cbf26",
   "metadata": {},
   "outputs": [],
   "source": [
    "# directory containing noiseless simulations\n",
    "SRC = Path('/path/to/raw_data/sim_regime_vary') # CHANGE THIS!!!\n",
    "# directory for saving noised simulations\n",
    "DST = Path('/path/to/raw_data/sim_noise_vary') # CHANGE THIS!!!\n",
    "XIS = [4, 8, 16, 32] #noise levels (normal std)\n",
    "SEED = 1234 #random noise seed"
   ]
  },
  {
   "cell_type": "code",
   "execution_count": 3,
   "id": "4be8128b-482a-4ac9-851d-55e1f745b333",
   "metadata": {},
   "outputs": [],
   "source": [
    "# use one value of c1\n",
    "src_fns = np.sort([i for i in os.listdir(SRC) if 'c1_-020' in i])\n",
    "DST.mkdir(parents=True, exist_ok=True) # create save directory\n",
    "xi_fillz = len(str(np.max(XIS))) # format noise level\n",
    "rng = np.random.default_rng(seed=SEED) # random number generator"
   ]
  },
  {
   "cell_type": "code",
   "execution_count": 4,
   "id": "86ac7b3c-07a9-4615-bc97-e9f7eb0b7c6c",
   "metadata": {},
   "outputs": [
    {
     "name": "stderr",
     "output_type": "stream",
     "text": [
      "100%|███████████████████████████████████████████| 15/15 [02:19<00:00,  9.31s/it]\n"
     ]
    }
   ],
   "source": [
    "for src_fn in tqdm(src_fns): # loop over source simulations\n",
    "    src_data = imread(SRC.joinpath(src_fn)) # read simulation\n",
    "    for xi in XIS: # loop over noise levels\n",
    "        dst_fn = 'xi_'+str(xi).zfill(xi_fillz)+'_'+src_fn # file save name\n",
    "        # add noise to simulation, using modulus because data is phases\n",
    "        dst_data = (src_data+rng.normal(scale=xi, size=src_data.shape)+256)%256\n",
    "        # write to file save name\n",
    "        imwrite(DST.joinpath(dst_fn), dst_data.astype(np.uint8)) "
   ]
  }
 ],
 "metadata": {
  "kernelspec": {
   "display_name": "Python 3 (ipykernel)",
   "language": "python",
   "name": "python3"
  },
  "language_info": {
   "codemirror_mode": {
    "name": "ipython",
    "version": 3
   },
   "file_extension": ".py",
   "mimetype": "text/x-python",
   "name": "python",
   "nbconvert_exporter": "python",
   "pygments_lexer": "ipython3",
   "version": "3.11.0"
  }
 },
 "nbformat": 4,
 "nbformat_minor": 5
}
