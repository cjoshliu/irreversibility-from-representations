{
 "cells": [
  {
   "cell_type": "code",
   "execution_count": null,
   "metadata": {},
   "outputs": [],
   "source": [
    "import numpy as np\n",
    "import os\n",
    "from pathlib import Path\n",
    "import shutil\n",
    "from skimage import io\n",
    "from tqdm import tqdm"
   ]
  },
  {
   "cell_type": "code",
   "execution_count": null,
   "metadata": {},
   "outputs": [],
   "source": [
    "# directory containing simulation and experiment video subdirectories\n",
    "SRC_DIR = '/path/to/saved/raw_data' # CHANGE THIS!!!\n",
    "# directory to save datasets as subdirectories\n",
    "DST_DIR = '/path/to/save/datasets' # CHANGE THIS!!!\n",
    "# datasets to pool in regime_pool\n",
    "POOLS = {'pool_0': ['c1_-020_c2_050_dT_010_s_0',\n",
    "                    'c1_-020_c2_070_dT_010_s_1',\n",
    "                    'c1_-020_c2_090_dT_010_s_0',\n",
    "                    'c1_-020_c2_110_dT_010_s_0',\n",
    "                    'c1_-020_c2_130_dT_010_s_0'],\n",
    "         'pool_1': ['c1_-020_c2_050_dT_010_s_4',\n",
    "                    'c1_-020_c2_070_dT_010_s_5',\n",
    "                    'c1_-020_c2_090_dT_010_s_6',\n",
    "                    'c1_-020_c2_110_dT_010_s_4',\n",
    "                    'c1_-020_c2_130_dT_010_s_12'],\n",
    "         'pool_2': ['c1_-020_c2_050_dT_010_s_6',\n",
    "                    'c1_-020_c2_070_dT_010_s_6',\n",
    "                    'c1_-020_c2_090_dT_010_s_22',\n",
    "                    'c1_-020_c2_110_dT_010_s_5',\n",
    "                    'c1_-020_c2_130_dT_010_s_15']}"
   ]
  },
  {
   "cell_type": "code",
   "execution_count": null,
   "metadata": {},
   "outputs": [],
   "source": [
    "def complexify_frame(phi, inscale='tif', savepath=None):\n",
    "    '''\n",
    "    Converts phase field into array of unit complex numbers and returns or saves as TIFF\n",
    "\n",
    "    Parameters\n",
    "    ----------\n",
    "    phi: 64 x 64 array-like, 2D phase field\n",
    "    scale: {'radian', 'cycle', 'tif'}, absolute range of angles\n",
    "        'radian': [-pi, pi)\n",
    "        'cycle': [0, 1]\n",
    "        'tif': [0, 255]\n",
    "    savepath: str, path to save array of unit complex numbers\n",
    "\n",
    "    Returns\n",
    "    -------\n",
    "    x: 2 x 64 x 64 np.ndarray, stack([cos(phi), sin(phi)]) in tif scale\n",
    "\n",
    "    '''\n",
    "    # rescale angles to radians\n",
    "    if inscale == 'tif': phases = np.array(phi)/255.0*2.0*np.pi-np.pi\n",
    "    elif inscale == 'cycle': phases = np.array(phi)*2.0*np.pi-np.pi\n",
    "    elif inscale == 'radian': phases = np.array(phi)\n",
    "    else: raise ValueError('Unknown input scale: {}'.format(inscale))\n",
    "    \n",
    "    # represent angle as unit complex number\n",
    "    x = np.stack((np.cos(phases), np.sin(phases)), dtype=np.single)\n",
    "    x = np.rint((x+1.0)/2.0*255.0).astype('uint8')\n",
    "    condition = (np.array([phases<0]*2)*np.stack((np.zeros_like(phases), x[1]==128))).astype(bool)\n",
    "    x = np.where(condition, 127, x) # deals with a boundary case where -pi is mapped to pi\n",
    "    # with this correction phi can be reconstructed unambiguously from x\n",
    "\n",
    "    if savepath != None: io.imsave(savepath, x)\n",
    "    else: return x"
   ]
  },
  {
   "cell_type": "code",
   "execution_count": null,
   "metadata": {},
   "outputs": [],
   "source": [
    "# make vanishing-field reference sample\n",
    "ruler_path = os.path.join(SRC_DIR, 'ruler.tif')\n",
    "complexify_frame(128*np.ones((64, 64)), savepath=ruler_path)"
   ]
  },
  {
   "cell_type": "code",
   "execution_count": null,
   "metadata": {},
   "outputs": [],
   "source": [
    "def complexify_stack(src, dst, ruler_path=None):\n",
    "    '''\n",
    "    Reads TIFF stack encoding phase field and creates complex-valued dataset\n",
    "\n",
    "    Parameters\n",
    "    ----------\n",
    "    src: str, path to input TIFF stack\n",
    "    dst: str, path to output directory\n",
    "    ruler_path: str, path to vanishing-field reference sample\n",
    "    '''\n",
    "    vid = io.imread(src)\n",
    "    n = len(vid)\n",
    "    Path(dst).mkdir(parents=True)\n",
    "    fmt = '{:0' + str(len(str(n))) + 'd}'\n",
    "\n",
    "    if ruler_path != None:\n",
    "        shutil.copyfile(ruler_path, os.path.join(dst, fmt.format(n)+'.tif'))\n",
    "    else: pass\n",
    "\n",
    "    for i in range(n):\n",
    "        complexify_frame(vid[i], savepath=os.path.join(dst, fmt.format(i)+'.tif'))"
   ]
  },
  {
   "cell_type": "code",
   "execution_count": null,
   "metadata": {},
   "outputs": [],
   "source": [
    "def complexify_multi(src, dst, ruler_path=None):\n",
    "    '''\n",
    "    Creates complex-valued dataset for all TIFFs in directory\n",
    "\n",
    "    Parameters\n",
    "    ----------\n",
    "    src: str, path to input directory\n",
    "    dst: str, path to output directory\n",
    "    ruler_path: str, path to vanishing-field reference ruler sample\n",
    "    '''\n",
    "    vids = np.sort([i for i in os.listdir(src) if '.tif' in i])\n",
    "    for vid in tqdm(vids):\n",
    "        complexify_stack(os.path.join(src, vid),\n",
    "                         os.path.join(dst, vid.replace('.tif', '')),\n",
    "                         ruler_path=ruler_path)"
   ]
  },
  {
   "cell_type": "code",
   "execution_count": null,
   "metadata": {},
   "outputs": [],
   "source": [
    "# make sim_tstep_vary datasets\n",
    "complexify_multi(os.path.join(SRC_DIR, 'sim_tstep_vary'),\n",
    "                 os.path.join(DST_DIR, 'sim_tstep_vary'),\n",
    "                 ruler_path=ruler_path)"
   ]
  },
  {
   "cell_type": "code",
   "execution_count": null,
   "metadata": {},
   "outputs": [],
   "source": [
    "# make sim_noise_vary datasets\n",
    "complexify_multi(os.path.join(SRC_DIR, 'sim_noise_vary'),\n",
    "                 os.path.join(DST_DIR, 'sim_noise_vary'),\n",
    "                 ruler_path=ruler_path)"
   ]
  },
  {
   "cell_type": "code",
   "execution_count": null,
   "metadata": {},
   "outputs": [],
   "source": [
    "# make sim_regime_vary datasets\n",
    "complexify_multi(os.path.join(SRC_DIR, 'sim_regime_vary'),\n",
    "                 os.path.join(DST_DIR, 'sim_regime_vary'),\n",
    "                 ruler_path=ruler_path)"
   ]
  },
  {
   "cell_type": "code",
   "execution_count": null,
   "metadata": {},
   "outputs": [],
   "source": [
    "# make exp_atp_vary datasets\n",
    "complexify_multi(os.path.join(SRC_DIR, 'exp_atp_vary'),\n",
    "                 os.path.join(DST_DIR, 'exp_atp_vary'),\n",
    "                 ruler_path=ruler_path)"
   ]
  },
  {
   "cell_type": "code",
   "execution_count": null,
   "metadata": {},
   "outputs": [],
   "source": [
    "# make exp_orderp_vary datasets\n",
    "complexify_multi(os.path.join(SRC_DIR, 'exp_orderp_vary'),\n",
    "                 os.path.join(DST_DIR, 'exp_orderp_vary'),\n",
    "                 ruler_path=ruler_path)"
   ]
  },
  {
   "cell_type": "code",
   "execution_count": null,
   "metadata": {},
   "outputs": [],
   "source": [
    "# make regime_pool datasets\n",
    "src_datasets = os.path.join(DST_DIR, 'sim_regime_vary')\n",
    "dst_datasets = os.path.join(DST_DIR, 'regime_pool')\n",
    "\n",
    "for key in POOLS.keys():\n",
    "    print('Starting {}:'.format(key))\n",
    "    dst_dataset = os.path.join(dst_datasets, key)\n",
    "    Path(dst_dataset).mkdir(parents=True)\n",
    "    for i in tqdm(range(len(POOLS[key]))):\n",
    "        src_dataset = os.path.join(src_datasets, POOLS[key][i])\n",
    "        for j in range(2000):\n",
    "            src_fn = os.path.join(src_dataset, str(j).zfill(5)+'.tif')\n",
    "            dst_fn = os.path.join(dst_dataset, str(j+i*2000).zfill(5)+'.tif')\n",
    "            shutil.copyfile(src_fn, dst_fn)\n",
    "    shutil.copyfile(ruler_path, os.path.join(dst_dataset, '10000.tif'))"
   ]
  }
 ],
 "metadata": {
  "kernelspec": {
   "display_name": "Python 3 (ipykernel)",
   "language": "python",
   "name": "python3"
  },
  "language_info": {
   "codemirror_mode": {
    "name": "ipython",
    "version": 3
   },
   "file_extension": ".py",
   "mimetype": "text/x-python",
   "name": "python",
   "nbconvert_exporter": "python",
   "pygments_lexer": "ipython3",
   "version": "3.11.4"
  }
 },
 "nbformat": 4,
 "nbformat_minor": 4
}
