{
 "cells": [
  {
   "cell_type": "code",
   "execution_count": null,
   "metadata": {},
   "outputs": [],
   "source": [
    "# MODIFY THESE\n",
    "SRC = None #path to folder of TIFF videos\n",
    "DST = None #path to save folder of datasets\n",
    "N_CHANNELS = 2 #length of each segment/observation\n",
    "N_SEGMENTS = 10000 #number of segments per dataset\n",
    "RULER = 'preprocessing/ruler.tif' #path to vanishing-field reference segment"
   ]
  },
  {
   "cell_type": "code",
   "execution_count": null,
   "metadata": {},
   "outputs": [],
   "source": [
    "import os\n",
    "import shutil\n",
    "import numpy as np\n",
    "from skimage import io\n",
    "from pathlib import Path"
   ]
  },
  {
   "cell_type": "code",
   "execution_count": null,
   "metadata": {},
   "outputs": [],
   "source": [
    "def segment_sim(in_path, out_path, channels, N, ruler_path=None):\n",
    "    '''\n",
    "    Saves substacks to folderPath\n",
    "  \n",
    "    in_path: str, input path to simulation\n",
    "    out_path: str, output path to dataset\n",
    "    channels: int, number of channels/consecutive frames per datum\n",
    "    N: int, number of data per output dataset\n",
    "    ruler_path: str, path to ruler/reference datum (optional, default None)\n",
    "    '''\n",
    "    im = io.imread(in_path)\n",
    "    os.mkdir(out_path)\n",
    "    form = '{:0' + str(len(str(N))) + 'd}'\n",
    "    \n",
    "    if ruler_path != None:\n",
    "        shutil.copyfile(ruler_path, os.path.join(out_path, form.format(N)+'.tif'))\n",
    "\n",
    "    for i in range(N):\n",
    "        substack = os.path.join(out_path, form.format(i)+'.tif')\n",
    "        io.imsave(substack, im[i:i+channels])"
   ]
  },
  {
   "cell_type": "code",
   "execution_count": null,
   "metadata": {},
   "outputs": [],
   "source": [
    "def mk_datasets(sims_path, dsets_path, channels, N, r_path=None):\n",
    "    '''\n",
    "    Makes dataset for each simulation file in sims_dir\n",
    "    \n",
    "    sims_path: str, input path to folder of simulations\n",
    "    dsets_path: str, output path to folder of datasets\n",
    "    channels: int, number of channels/consecutive frames per datum\n",
    "    N: int, number of data per output dataset\n",
    "    ruler_path: str, path to ruler/reference datum (optional, default None)\n",
    "    '''\n",
    "    simulations = np.sort([i for i in os.listdir(sims_path) if '.tif' in i])\n",
    "    Path(dsets_path).mkdir(parents=True)\n",
    "    for sim in simulations:\n",
    "        in_path = os.path.join(sims_path, sim)\n",
    "        out_path = os.path.join(dsets_path, sim.replace('.tif',''))\n",
    "        segment_sim(in_path, out_path, channels, N, ruler_path=r_path)"
   ]
  },
  {
   "cell_type": "code",
   "execution_count": null,
   "metadata": {},
   "outputs": [],
   "source": [
    "mk_datasets(SRC, DST, N_CHANNELS, N_SEGMENTS, RULER)"
   ]
  }
 ],
 "metadata": {
  "kernelspec": {
   "display_name": "Python 3 (ipykernel)",
   "language": "python",
   "name": "python3"
  },
  "language_info": {
   "codemirror_mode": {
    "name": "ipython",
    "version": 3
   },
   "file_extension": ".py",
   "mimetype": "text/x-python",
   "name": "python",
   "nbconvert_exporter": "python",
   "pygments_lexer": "ipython3",
   "version": "3.10.8"
  }
 },
 "nbformat": 4,
 "nbformat_minor": 4
}
