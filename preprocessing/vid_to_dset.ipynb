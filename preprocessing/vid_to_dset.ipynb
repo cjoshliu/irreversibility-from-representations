{
 "cells": [
  {
   "cell_type": "code",
   "execution_count": null,
   "metadata": {},
   "outputs": [],
   "source": [
    "import numpy as np\n",
    "import os\n",
    "from pathlib import Path\n",
    "import shutil\n",
    "from skimage import io\n",
    "from tqdm import tqdm"
   ]
  },
  {
   "cell_type": "code",
   "execution_count": null,
   "metadata": {},
   "outputs": [],
   "source": [
    "# directory containing simulation and experiment video subdirectories\n",
    "SRC_DIR = '/mnt/labData/joshData/phiVAE/raw_data' # CHANGE THIS!!!\n",
    "# directory to save datasets as subdirectories\n",
    "DST_DIR = '/mnt/labData/joshData/phiVAE/datasets' # CHANGE THIS!!!"
   ]
  },
  {
   "cell_type": "code",
   "execution_count": null,
   "metadata": {},
   "outputs": [],
   "source": [
    "def complexify_frame(phi, inscale='tif', savepath=None):\n",
    "    '''\n",
    "    Converts phase field into array of unit complex numbers and returns or saves as TIFF\n",
    "\n",
    "    Parameters\n",
    "    ----------\n",
    "    phi: 64 x 64 array-like, 2D phase field\n",
    "    scale: {'radian', 'cycle', 'tif'}, absolute range of angles\n",
    "        'radian': [-pi, pi)\n",
    "        'cycle': [0, 1]\n",
    "        'tif': [0, 255]\n",
    "    savepath: str, path to save array of unit complex numbers\n",
    "\n",
    "    Returns\n",
    "    -------\n",
    "    x: 2 x 64 x 64 np.ndarray, stack([cos(phi), sin(phi)]) in tif scale\n",
    "\n",
    "    '''\n",
    "    # rescale angles to radians\n",
    "    if inscale == 'tif': phases = np.array(phi)/255.0*2.0*np.pi-np.pi\n",
    "    elif inscale == 'cycle': phases = np.array(phi)*2.0*np.pi-np.pi\n",
    "    elif inscale == 'radian': phases = np.array(phi)\n",
    "    else: raise ValueError('Unknown input scale: {}'.format(inscale))\n",
    "    \n",
    "    # represent angle as unit complex number\n",
    "    x = np.stack((np.cos(phases), np.sin(phases)), dtype=np.single)\n",
    "    x = np.rint((x+1.0)/2.0*255.0).astype('uint8')\n",
    "    condition = (np.array([phases<0]*2)*np.stack((np.zeros_like(phases), x[1]==128))).astype(bool)\n",
    "    x = np.where(condition, 127, x) # deals with a boundary case where -pi is mapped to pi\n",
    "    # with this correction phi can be reconstructed unambiguously from x\n",
    "\n",
    "    if savepath != None: io.imsave(savepath, x)\n",
    "    else: return x"
   ]
  },
  {
   "cell_type": "code",
   "execution_count": null,
   "metadata": {},
   "outputs": [],
   "source": [
    "# make vanishing-field reference sample\n",
    "ruler_path = os.path.join(SRC_DIR, 'ruler.tif')\n",
    "complexify_frame(128*np.ones((64, 64)), savepath=ruler_path)"
   ]
  },
  {
   "cell_type": "code",
   "execution_count": null,
   "metadata": {},
   "outputs": [],
   "source": [
    "def complexify_stack(src, dst, ruler_path=None):\n",
    "    '''\n",
    "    Reads TIFF stack encoding phase field and creates complex-valued dataset\n",
    "\n",
    "    Parameters\n",
    "    ----------\n",
    "    src: str, path to input TIFF stack\n",
    "    dst: str, path to output directory\n",
    "    ruler_path: str, path to vanishing-field reference sample\n",
    "    '''\n",
    "    vid = io.imread(src)\n",
    "    n = len(vid)\n",
    "    Path(dst).mkdir(parents=True)\n",
    "    fmt = '{:0' + str(len(str(n))) + 'd}'\n",
    "\n",
    "    if ruler_path != None:\n",
    "        shutil.copyfile(ruler_path, os.path.join(dst, fmt.format(n)+'.tif'))\n",
    "    else: pass\n",
    "\n",
    "    for i in range(n):\n",
    "        complexify_frame(vid[i], savepath=os.path.join(dst, fmt.format(i)+'.tif'))"
   ]
  },
  {
   "cell_type": "code",
   "execution_count": null,
   "metadata": {},
   "outputs": [],
   "source": [
    "def complexify_multi(src, dst, ruler_path=None):\n",
    "    '''\n",
    "    Creates complex-valued dataset for all TIFFs in directory\n",
    "\n",
    "    Parameters\n",
    "    ----------\n",
    "    src: str, path to input directory\n",
    "    dst: str, path to output directory\n",
    "    ruler_path: str, path to vanishing-field reference ruler sample\n",
    "    '''\n",
    "    vids = np.sort([i for i in os.listdir(src) if '.tif' in i])\n",
    "    for vid in tqdm(vids):\n",
    "        complexify_stack(os.path.join(src, vid),\n",
    "                         os.path.join(dst, vid.replace('.tif', '')),\n",
    "                         ruler_path=ruler_path)"
   ]
  },
  {
   "cell_type": "code",
   "execution_count": null,
   "metadata": {},
   "outputs": [],
   "source": [
    "# make sim_tstep_vary datasets\n",
    "complexify_multi(os.path.join(SRC_DIR, 'sim_tstep_vary'),\n",
    "                 os.path.join(DST_DIR, 'sim_tstep_vary'),\n",
    "                 ruler_path=ruler_path)"
   ]
  },
  {
   "cell_type": "code",
   "execution_count": null,
   "metadata": {},
   "outputs": [],
   "source": [
    "# make sim_noise_vary datasets\n",
    "complexify_multi(os.path.join(SRC_DIR, 'sim_noise_vary'),\n",
    "                 os.path.join(DST_DIR, 'sim_noise_vary'),\n",
    "                 ruler_path=ruler_path)"
   ]
  },
  {
   "cell_type": "code",
   "execution_count": null,
   "metadata": {},
   "outputs": [],
   "source": [
    "# make sim_regime_vary datasets\n",
    "complexify_multi(os.path.join(SRC_DIR, 'sim_regime_vary'),\n",
    "                 os.path.join(DST_DIR, 'sim_regime_vary'),\n",
    "                 ruler_path=ruler_path)"
   ]
  },
  {
   "cell_type": "code",
   "execution_count": null,
   "metadata": {},
   "outputs": [],
   "source": [
    "# make exp_atp_vary datasets\n",
    "complexify_multi(os.path.join(SRC_DIR, 'exp_atp_vary'),\n",
    "                 os.path.join(DST_DIR, 'exp_atp_vary'),\n",
    "                 ruler_path=ruler_path)"
   ]
  },
  {
   "cell_type": "code",
   "execution_count": null,
   "metadata": {},
   "outputs": [],
   "source": [
    "# make exp_orderp_vary datasets\n",
    "complexify_multi(os.path.join(SRC_DIR, 'exp_orderp_vary'),\n",
    "                 os.path.join(DST_DIR, 'exp_orderp_vary'),\n",
    "                 ruler_path=ruler_path)"
   ]
  }
 ],
 "metadata": {
  "kernelspec": {
   "display_name": "Python 3 (ipykernel)",
   "language": "python",
   "name": "python3"
  },
  "language_info": {
   "codemirror_mode": {
    "name": "ipython",
    "version": 3
   },
   "file_extension": ".py",
   "mimetype": "text/x-python",
   "name": "python",
   "nbconvert_exporter": "python",
   "pygments_lexer": "ipython3",
   "version": "3.11.4"
  }
 },
 "nbformat": 4,
 "nbformat_minor": 4
}
