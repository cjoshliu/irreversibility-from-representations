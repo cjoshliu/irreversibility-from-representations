{
 "cells": [
  {
   "cell_type": "code",
   "execution_count": null,
   "metadata": {},
   "outputs": [],
   "source": [
    "from matplotlib import pyplot as plt\n",
    "import numpy as np\n",
    "import os\n",
    "from scipy.ndimage import convolve\n",
    "from skimage import feature, io\n",
    "from tqdm import tqdm"
   ]
  },
  {
   "cell_type": "code",
   "execution_count": null,
   "metadata": {},
   "outputs": [],
   "source": [
    "# directory containing CGL simulations near the transition to turbulence\n",
    "SRC_DIR = '/path/to/datasets/vary_near_critical' # CHANGE THIS!!!"
   ]
  },
  {
   "cell_type": "code",
   "execution_count": null,
   "metadata": {},
   "outputs": [],
   "source": [
    "def slice_polar_defects(phi):\n",
    "    '''Find polar-order defects in phase-field timeslice\n",
    "\n",
    "    Parameters\n",
    "    ----------\n",
    "    phi : np.ndarray\n",
    "        timeslice of a 2D phase field\n",
    "        encoded on a uint8 scale [-pi, pi) -> [0, 256)\n",
    "    \n",
    "    Returns\n",
    "    -------\n",
    "    dd : float\n",
    "        density of defects in phi\n",
    "    '''\n",
    "    # convert to complex representation\n",
    "    phases = np.array(phi)/255.0*2.0*np.pi-np.pi\n",
    "    cis = np.exp(1j*phases)\n",
    "\n",
    "    # sum 2-by-2 neighborhoods to path-integrate angles\n",
    "    kernel = np.ones((2, 2))\n",
    "    cis_sum_mag = np.abs(convolve(cis, kernel, mode='wrap'))\n",
    "    \n",
    "    # polar-order defects are sites where surrounding cis sum to 0\n",
    "    defects = feature.peak_local_max(4.0-cis_sum_mag, threshold_abs=1.0)\n",
    "\n",
    "    return len(defects)/np.prod(phi.shape) # number of defects"
   ]
  },
  {
   "cell_type": "code",
   "execution_count": null,
   "metadata": {},
   "outputs": [],
   "source": [
    "def series_polar_defects(fn):\n",
    "    '''Find time-averaged polar-order defect density\n",
    "\n",
    "    Parameters\n",
    "    ----------\n",
    "    fn : str\n",
    "        path to phase-field video\n",
    "    \n",
    "    Returns\n",
    "    -------\n",
    "    mu_dd : float\n",
    "        time-averaged defect number\n",
    "    '''\n",
    "    phis = io.imread(fn)\n",
    "    timesteps = phis.shape[0]\n",
    "\n",
    "    integrated_density = 0\n",
    "    for phi in phis:\n",
    "        integrated_density += slice_polar_defects(phi)\n",
    "    \n",
    "    return integrated_density/timesteps"
   ]
  },
  {
   "cell_type": "code",
   "execution_count": null,
   "metadata": {},
   "outputs": [],
   "source": [
    "# find time-averaged defect densities of each simulation\n",
    "density_dict = {}\n",
    "for bn in tqdm(os.listdir(SRC_DIR)):\n",
    "    fn = os.path.join(SRC_DIR, bn)\n",
    "    mu_dd = series_polar_defects(fn)\n",
    "    density_dict[bn] = mu_dd"
   ]
  },
  {
   "cell_type": "code",
   "execution_count": null,
   "metadata": {},
   "outputs": [],
   "source": [
    "# find mean defect density at each value of c2\n",
    "c2_density_mu_SE = {}\n",
    "for c2 in np.linspace(1.13, 1.21, num=9):\n",
    "    c2_densities = []\n",
    "    c2_str = ('c2_%.2f'%c2).replace('.', '')\n",
    "    for key in density_dict.keys():\n",
    "        if c2_str in key: c2_densities += [density_dict[key]]\n",
    "    c2_density_mu_SE[c2_str] = (np.mean(c2_densities),\n",
    "                                np.std(c2_densities, ddof=1)/np.sqrt(len(c2_densities)))\n",
    "c2_density_mu_SE"
   ]
  }
 ],
 "metadata": {
  "kernelspec": {
   "display_name": "venv",
   "language": "python",
   "name": "python3"
  },
  "language_info": {
   "codemirror_mode": {
    "name": "ipython",
    "version": 3
   },
   "file_extension": ".py",
   "mimetype": "text/x-python",
   "name": "python",
   "nbconvert_exporter": "python",
   "pygments_lexer": "ipython3",
   "version": "3.11.9"
  }
 },
 "nbformat": 4,
 "nbformat_minor": 2
}
